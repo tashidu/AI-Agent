{
  "nbformat": 4,
  "nbformat_minor": 0,
  "metadata": {
    "colab": {
      "provenance": [],
      "authorship_tag": "ABX9TyODbK6amvXiBta3ynVCnY6t",
      "include_colab_link": true
    },
    "kernelspec": {
      "name": "python3",
      "display_name": "Python 3"
    },
    "language_info": {
      "name": "python"
    }
  },
  "cells": [
    {
      "cell_type": "markdown",
      "metadata": {
        "id": "view-in-github",
        "colab_type": "text"
      },
      "source": [
        "<a href=\"https://colab.research.google.com/github/tashidu/AI-Agent/blob/main/Quasi_Agent.ipynb\" target=\"_parent\"><img src=\"https://colab.research.google.com/assets/colab-badge.svg\" alt=\"Open In Colab\"/></a>"
      ]
    },
    {
      "cell_type": "code",
      "execution_count": 1,
      "metadata": {
        "colab": {
          "base_uri": "https://localhost:8080/"
        },
        "id": "yIuFpmcbupFV",
        "outputId": "b2f269f5-6a18-460d-ec24-34db9836cf3e"
      },
      "outputs": [
        {
          "output_type": "stream",
          "name": "stdout",
          "text": [
            "Collecting litellm\n",
            "  Downloading litellm-1.74.12-py3-none-any.whl.metadata (40 kB)\n",
            "\u001b[?25l     \u001b[90m━━━━━━━━━━━━━━━━━━━━━━━━━━━━━━━━━━━━━━━━\u001b[0m \u001b[32m0.0/40.7 kB\u001b[0m \u001b[31m?\u001b[0m eta \u001b[36m-:--:--\u001b[0m\r\u001b[2K     \u001b[90m━━━━━━━━━━━━━━━━━━━━━━━━━━━━━━━━━━━━━━━━\u001b[0m \u001b[32m40.7/40.7 kB\u001b[0m \u001b[31m1.5 MB/s\u001b[0m eta \u001b[36m0:00:00\u001b[0m\n",
            "\u001b[?25hRequirement already satisfied: aiohttp>=3.10 in /usr/local/lib/python3.11/dist-packages (from litellm) (3.12.15)\n",
            "Requirement already satisfied: click in /usr/local/lib/python3.11/dist-packages (from litellm) (8.2.1)\n",
            "Requirement already satisfied: httpx>=0.23.0 in /usr/local/lib/python3.11/dist-packages (from litellm) (0.28.1)\n",
            "Requirement already satisfied: importlib-metadata>=6.8.0 in /usr/local/lib/python3.11/dist-packages (from litellm) (8.7.0)\n",
            "Requirement already satisfied: jinja2<4.0.0,>=3.1.2 in /usr/local/lib/python3.11/dist-packages (from litellm) (3.1.6)\n",
            "Requirement already satisfied: jsonschema<5.0.0,>=4.22.0 in /usr/local/lib/python3.11/dist-packages (from litellm) (4.25.0)\n",
            "Requirement already satisfied: openai>=1.68.2 in /usr/local/lib/python3.11/dist-packages (from litellm) (1.97.1)\n",
            "Requirement already satisfied: pydantic<3.0.0,>=2.5.0 in /usr/local/lib/python3.11/dist-packages (from litellm) (2.11.7)\n",
            "Collecting python-dotenv>=0.2.0 (from litellm)\n",
            "  Downloading python_dotenv-1.1.1-py3-none-any.whl.metadata (24 kB)\n",
            "Requirement already satisfied: tiktoken>=0.7.0 in /usr/local/lib/python3.11/dist-packages (from litellm) (0.9.0)\n",
            "Requirement already satisfied: tokenizers in /usr/local/lib/python3.11/dist-packages (from litellm) (0.21.4)\n",
            "Requirement already satisfied: aiohappyeyeballs>=2.5.0 in /usr/local/lib/python3.11/dist-packages (from aiohttp>=3.10->litellm) (2.6.1)\n",
            "Requirement already satisfied: aiosignal>=1.4.0 in /usr/local/lib/python3.11/dist-packages (from aiohttp>=3.10->litellm) (1.4.0)\n",
            "Requirement already satisfied: attrs>=17.3.0 in /usr/local/lib/python3.11/dist-packages (from aiohttp>=3.10->litellm) (25.3.0)\n",
            "Requirement already satisfied: frozenlist>=1.1.1 in /usr/local/lib/python3.11/dist-packages (from aiohttp>=3.10->litellm) (1.7.0)\n",
            "Requirement already satisfied: multidict<7.0,>=4.5 in /usr/local/lib/python3.11/dist-packages (from aiohttp>=3.10->litellm) (6.6.3)\n",
            "Requirement already satisfied: propcache>=0.2.0 in /usr/local/lib/python3.11/dist-packages (from aiohttp>=3.10->litellm) (0.3.2)\n",
            "Requirement already satisfied: yarl<2.0,>=1.17.0 in /usr/local/lib/python3.11/dist-packages (from aiohttp>=3.10->litellm) (1.20.1)\n",
            "Requirement already satisfied: anyio in /usr/local/lib/python3.11/dist-packages (from httpx>=0.23.0->litellm) (4.9.0)\n",
            "Requirement already satisfied: certifi in /usr/local/lib/python3.11/dist-packages (from httpx>=0.23.0->litellm) (2025.7.14)\n",
            "Requirement already satisfied: httpcore==1.* in /usr/local/lib/python3.11/dist-packages (from httpx>=0.23.0->litellm) (1.0.9)\n",
            "Requirement already satisfied: idna in /usr/local/lib/python3.11/dist-packages (from httpx>=0.23.0->litellm) (3.10)\n",
            "Requirement already satisfied: h11>=0.16 in /usr/local/lib/python3.11/dist-packages (from httpcore==1.*->httpx>=0.23.0->litellm) (0.16.0)\n",
            "Requirement already satisfied: zipp>=3.20 in /usr/local/lib/python3.11/dist-packages (from importlib-metadata>=6.8.0->litellm) (3.23.0)\n",
            "Requirement already satisfied: MarkupSafe>=2.0 in /usr/local/lib/python3.11/dist-packages (from jinja2<4.0.0,>=3.1.2->litellm) (3.0.2)\n",
            "Requirement already satisfied: jsonschema-specifications>=2023.03.6 in /usr/local/lib/python3.11/dist-packages (from jsonschema<5.0.0,>=4.22.0->litellm) (2025.4.1)\n",
            "Requirement already satisfied: referencing>=0.28.4 in /usr/local/lib/python3.11/dist-packages (from jsonschema<5.0.0,>=4.22.0->litellm) (0.36.2)\n",
            "Requirement already satisfied: rpds-py>=0.7.1 in /usr/local/lib/python3.11/dist-packages (from jsonschema<5.0.0,>=4.22.0->litellm) (0.26.0)\n",
            "Requirement already satisfied: distro<2,>=1.7.0 in /usr/local/lib/python3.11/dist-packages (from openai>=1.68.2->litellm) (1.9.0)\n",
            "Requirement already satisfied: jiter<1,>=0.4.0 in /usr/local/lib/python3.11/dist-packages (from openai>=1.68.2->litellm) (0.10.0)\n",
            "Requirement already satisfied: sniffio in /usr/local/lib/python3.11/dist-packages (from openai>=1.68.2->litellm) (1.3.1)\n",
            "Requirement already satisfied: tqdm>4 in /usr/local/lib/python3.11/dist-packages (from openai>=1.68.2->litellm) (4.67.1)\n",
            "Requirement already satisfied: typing-extensions<5,>=4.11 in /usr/local/lib/python3.11/dist-packages (from openai>=1.68.2->litellm) (4.14.1)\n",
            "Requirement already satisfied: annotated-types>=0.6.0 in /usr/local/lib/python3.11/dist-packages (from pydantic<3.0.0,>=2.5.0->litellm) (0.7.0)\n",
            "Requirement already satisfied: pydantic-core==2.33.2 in /usr/local/lib/python3.11/dist-packages (from pydantic<3.0.0,>=2.5.0->litellm) (2.33.2)\n",
            "Requirement already satisfied: typing-inspection>=0.4.0 in /usr/local/lib/python3.11/dist-packages (from pydantic<3.0.0,>=2.5.0->litellm) (0.4.1)\n",
            "Requirement already satisfied: regex>=2022.1.18 in /usr/local/lib/python3.11/dist-packages (from tiktoken>=0.7.0->litellm) (2024.11.6)\n",
            "Requirement already satisfied: requests>=2.26.0 in /usr/local/lib/python3.11/dist-packages (from tiktoken>=0.7.0->litellm) (2.32.3)\n",
            "Requirement already satisfied: huggingface-hub<1.0,>=0.16.4 in /usr/local/lib/python3.11/dist-packages (from tokenizers->litellm) (0.34.3)\n",
            "Requirement already satisfied: filelock in /usr/local/lib/python3.11/dist-packages (from huggingface-hub<1.0,>=0.16.4->tokenizers->litellm) (3.18.0)\n",
            "Requirement already satisfied: fsspec>=2023.5.0 in /usr/local/lib/python3.11/dist-packages (from huggingface-hub<1.0,>=0.16.4->tokenizers->litellm) (2025.3.0)\n",
            "Requirement already satisfied: packaging>=20.9 in /usr/local/lib/python3.11/dist-packages (from huggingface-hub<1.0,>=0.16.4->tokenizers->litellm) (25.0)\n",
            "Requirement already satisfied: pyyaml>=5.1 in /usr/local/lib/python3.11/dist-packages (from huggingface-hub<1.0,>=0.16.4->tokenizers->litellm) (6.0.2)\n",
            "Requirement already satisfied: hf-xet<2.0.0,>=1.1.3 in /usr/local/lib/python3.11/dist-packages (from huggingface-hub<1.0,>=0.16.4->tokenizers->litellm) (1.1.5)\n",
            "Requirement already satisfied: charset-normalizer<4,>=2 in /usr/local/lib/python3.11/dist-packages (from requests>=2.26.0->tiktoken>=0.7.0->litellm) (3.4.2)\n",
            "Requirement already satisfied: urllib3<3,>=1.21.1 in /usr/local/lib/python3.11/dist-packages (from requests>=2.26.0->tiktoken>=0.7.0->litellm) (2.5.0)\n",
            "Downloading litellm-1.74.12-py3-none-any.whl (8.8 MB)\n",
            "\u001b[2K   \u001b[90m━━━━━━━━━━━━━━━━━━━━━━━━━━━━━━━━━━━━━━━━\u001b[0m \u001b[32m8.8/8.8 MB\u001b[0m \u001b[31m34.1 MB/s\u001b[0m eta \u001b[36m0:00:00\u001b[0m\n",
            "\u001b[?25hDownloading python_dotenv-1.1.1-py3-none-any.whl (20 kB)\n",
            "Installing collected packages: python-dotenv, litellm\n",
            "Successfully installed litellm-1.74.12 python-dotenv-1.1.1\n"
          ]
        }
      ],
      "source": [
        "pip install litellm"
      ]
    },
    {
      "cell_type": "code",
      "source": [
        "import os\n",
        "from google.colab import userdata"
      ],
      "metadata": {
        "id": "hdBrDIeHweJx"
      },
      "execution_count": 3,
      "outputs": []
    },
    {
      "cell_type": "code",
      "source": [
        "api_key = userdata.get('OPENAI_API_KEY')\n",
        "os.environ[\"OPENAI_API_KEY\"] = api_key"
      ],
      "metadata": {
        "id": "DiiAqDQZw97g"
      },
      "execution_count": 6,
      "outputs": []
    },
    {
      "cell_type": "code",
      "source": [
        "from litellm import completion\n",
        "from typing  import List , Dict"
      ],
      "metadata": {
        "id": "IXUDGeBCxuAf"
      },
      "execution_count": 10,
      "outputs": []
    },
    {
      "cell_type": "code",
      "source": [
        "def generate_response(messages : List[Dict]) ->str:\n",
        "  response = completion(\n",
        "      model = \"openai/gpt-4o\" ,\n",
        "      messages = messages,\n",
        "      max_tokens = 1024\n",
        "  )\n",
        "  return response.choices[0].message.content\n",
        "\n",
        "want_to_create = input(\"Ask the user what function they want to create\")\n",
        "\n",
        "messages = [\n",
        "   {\"role\": \"system\" ,\"content\" : \"write a basic Python function based on the user’s description\"},\n",
        "\n",
        "   {\"role\": \"user\" ,\"content\" : want_to_create},\n",
        "\n",
        "\n",
        " ]\n",
        "\n",
        "response = generate_response(messages)\n",
        "\n",
        "print(response)\n",
        "\n",
        "updated_messages = [\n",
        "    {\"role\": \"system\" ,\"content\" : \"You are a helpful assistant that writes clean Python code.\"},\n",
        "\n",
        "   {\"role\": \"user\" ,\"content\" : f\"Write a basic Python function based on this request: {user_request}\"},\n",
        "\n",
        "    {\"role\" : \"assistant\" , \"content\": response},\n",
        "\n",
        "   {\"role\": \"user\", \"content\": \"content\": \"Please add comprehensive documentation: function description, parameters, return values, examples, edge cases.\"}\n",
        "\n",
        "]\n",
        "\n",
        "update_response = generate_response(updated_messages)\n",
        "\n",
        "print(update_response)\n",
        "\n",
        "\n",
        "# Step 3 - Add unit tests\n",
        "messages.append({\"role\": \"assistant\", \"content\": update_response})\n",
        "messages.append({\"role\": \"user\", \"content\": \"Now add unittest test cases covering basic functionality, edge cases, error cases, and different inputs.\"})\n",
        "\n",
        "step3_response = generate_response(messages)\n",
        "final_code = step3_response.strip()\n",
        "\n",
        ""
      ],
      "metadata": {
        "colab": {
          "base_uri": "https://localhost:8080/"
        },
        "id": "sOamHTVc10ad",
        "outputId": "680e4432-0e89-4b79-a06a-559def860204"
      },
      "execution_count": 21,
      "outputs": [
        {
          "output_type": "stream",
          "name": "stdout",
          "text": [
            "Ask the user what function they want to create🧠 What Python function would you like to generate? Calculate the factorial of a number.\n",
            "Here is a basic Python function to calculate the factorial of a number:\n",
            "\n",
            "```python\n",
            "def factorial(n):\n",
            "    \"\"\"\n",
            "    Calculate the factorial of a given non-negative integer n.\n",
            "    \n",
            "    Parameters:\n",
            "    n (int): A non-negative integer for which to calculate the factorial\n",
            "    \n",
            "    Returns:\n",
            "    int: Factorial of the input number n\n",
            "    \"\"\"\n",
            "    if n < 0:\n",
            "        raise ValueError(\"Factorial is not defined for negative numbers\")\n",
            "    elif n == 0 or n == 1:\n",
            "        return 1\n",
            "    else:\n",
            "        result = 1\n",
            "        for i in range(2, n + 1):\n",
            "            result *= i\n",
            "        return result\n",
            "\n",
            "# Example usage\n",
            "print(factorial(5))  # Output: 120\n",
            "```\n",
            "\n",
            "This function checks if the input number is non-negative and calculates the factorial through an iterative approach. If the input number is less than zero, it raises a `ValueError`.\n"
          ]
        },
        {
          "output_type": "stream",
          "name": "stderr",
          "text": [
            "/usr/local/lib/python3.11/dist-packages/pydantic/main.py:463: UserWarning: Pydantic serializer warnings:\n",
            "  PydanticSerializationUnexpectedValue(Expected 9 fields but got 6: Expected `Message` - serialized value may not be as expected [input_value=Message(content='Here is ...: None}, annotations=[]), input_type=Message])\n",
            "  PydanticSerializationUnexpectedValue(Expected `StreamingChoices` - serialized value may not be as expected [input_value=Choices(finish_reason='st...ider_specific_fields={}), input_type=Choices])\n",
            "  return self.__pydantic_serializer__.to_python(\n"
          ]
        },
        {
          "output_type": "stream",
          "name": "stdout",
          "text": [
            "Here is the updated Python function with detailed documentation:\n",
            "\n",
            "```python\n",
            "def factorial(n):\n",
            "    \"\"\"\n",
            "    Calculate the factorial of a given non-negative integer n.\n",
            "\n",
            "    The factorial of a non-negative integer n, denoted as n!, is the product \n",
            "    of all positive integers less than or equal to n. The function uses an \n",
            "    iterative approach to compute the factorial.\n",
            "\n",
            "    Parameters:\n",
            "    n (int): A non-negative integer for which to calculate the factorial.\n",
            "\n",
            "    Returns:\n",
            "    int: The factorial of the input number n.\n",
            "\n",
            "    Raises:\n",
            "    ValueError: If n is negative, because factorial is not defined for \n",
            "    negative numbers.\n",
            "\n",
            "    Examples:\n",
            "    >>> factorial(5)\n",
            "    120\n",
            "    >>> factorial(0)\n",
            "    1\n",
            "\n",
            "    The function assumes the input is a valid integer. For non-integer inputs, \n",
            "    it is advisable to handle them before calling this function.\n",
            "    \"\"\"\n",
            "    if n < 0:\n",
            "        raise ValueError(\"Factorial is not defined for negative numbers\")\n",
            "    elif n == 0 or n == 1:\n",
            "        return 1\n",
            "    else:\n",
            "        result = 1\n",
            "        for i in range(2, n + 1):\n",
            "            result *= i\n",
            "        return result\n",
            "\n",
            "# Example usage\n",
            "print(factorial(5))  # Output: 120\n",
            "```\n",
            "\n",
            "This version of the function includes a comprehensive docstring that describes its purpose, parameters, return value, exceptions, and provides usage examples.\n"
          ]
        }
      ]
    },
    {
      "cell_type": "code",
      "source": [],
      "metadata": {
        "id": "UJooQf1q6R7z"
      },
      "execution_count": null,
      "outputs": []
    }
  ]
}